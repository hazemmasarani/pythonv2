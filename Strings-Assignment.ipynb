{
 "cells": [
  {
   "cell_type": "markdown",
   "metadata": {},
   "source": [
    "# Strings in Python Assignment\n",
    "\n",
    "## Exercise 1: String Basics\n",
    "\n",
    "Strings are a fundamental data type in Python, representing sequences of characters. Understanding how to manipulate and utilize strings is crucial in programming.\n"
   ]
  },
  {
   "cell_type": "markdown",
   "metadata": {},
   "source": [
    "* **Task 1.1:** Define a string variable named `greeting` with the value `\"Hello, world!\"`. Then, use the `print()` function to display the length of this string using the `len()` function.\n",
    "\n",
    "  Example:\n",
    "\n",
    "  \n",
    "\n",
    "```python\n",
    "  greeting = \"Hello, world!\"\n",
    "  print(len(greeting))\n",
    "  ```\n"
   ]
  },
  {
   "cell_type": "code",
   "execution_count": 9,
   "metadata": {},
   "outputs": [
    {
     "name": "stdout",
     "output_type": "stream",
     "text": [
      "Hello, world!\n"
     ]
    }
   ],
   "source": [
    "# Task 1.1\n",
    "greeting = \"Hello, world!\"\n",
    "print(greeting)"
   ]
  },
  {
   "cell_type": "markdown",
   "metadata": {},
   "source": [
    "* **Task 1.2:** Create two string variables,  `first_name` as `\"Alice\"` and `last_name` as `\"Smith\"`. Concatenate these two strings with a space in between and print the result.\n",
    "\n",
    "  Example:\n",
    "\n",
    "  \n",
    "\n",
    "```python\n",
    "  first_name = \"Alice\"\n",
    "  last_name = \"Smith\"\n",
    "  full_name = first_name + \" \" + last_name\n",
    "  print(full_name)\n",
    "  ```\n"
   ]
  },
  {
   "cell_type": "code",
   "execution_count": 10,
   "metadata": {},
   "outputs": [
    {
     "name": "stdout",
     "output_type": "stream",
     "text": [
      "Alice Smith\n"
     ]
    }
   ],
   "source": [
    "# Task 1.2\n",
    "first_name = \"Alice\"\n",
    "last_name = \"Smith\"\n",
    "full_name = first_name + \" \" + last_name\n",
    "print(full_name)"
   ]
  },
  {
   "cell_type": "markdown",
   "metadata": {},
   "source": [
    "* **Task 1.3:** Using the `replace()` method, change the first occurrence of the letter `\"o\"` in the `greeting` variable to `\"@\"` and print the new string.\n"
   ]
  },
  {
   "cell_type": "code",
   "execution_count": 11,
   "metadata": {},
   "outputs": [
    {
     "name": "stdout",
     "output_type": "stream",
     "text": [
      "Hell@, w@rld!\n"
     ]
    }
   ],
   "source": [
    "# Task 1.3\n",
    "ans = greeting.replace(\"o\", \"@\")\n",
    "print(ans)"
   ]
  },
  {
   "cell_type": "markdown",
   "metadata": {},
   "source": [
    "## Exercise 2: String Indexing and Slicing\n",
    "\n",
    "Indexing and slicing are powerful tools for accessing specific parts of strings.\n"
   ]
  },
  {
   "cell_type": "markdown",
   "metadata": {},
   "source": [
    "* **Task 2.1:** Print the first and last character of the `greeting` variable. Remember, string indexing starts at 0.\n"
   ]
  },
  {
   "cell_type": "code",
   "execution_count": 12,
   "metadata": {},
   "outputs": [
    {
     "name": "stdout",
     "output_type": "stream",
     "text": [
      "H !\n"
     ]
    }
   ],
   "source": [
    "# Task 2.1\n",
    "print(greeting[0], greeting[-1])"
   ]
  },
  {
   "cell_type": "markdown",
   "metadata": {},
   "source": [
    "* **Task 2.2:** Slice the `greeting` string to extract the substring `\"Hello\"` and print it.\n"
   ]
  },
  {
   "cell_type": "code",
   "execution_count": 7,
   "metadata": {},
   "outputs": [
    {
     "name": "stdout",
     "output_type": "stream",
     "text": [
      "Hell@,\n"
     ]
    }
   ],
   "source": [
    "# Task 2.2\n",
    "print(greeting.split()[0])"
   ]
  },
  {
   "cell_type": "markdown",
   "metadata": {},
   "source": [
    "## Exercise 3: Exploring String Methods\n",
    "\n",
    "Python provides numerous methods for string manipulation. Experimenting with these helps you understand their functionality.\n"
   ]
  },
  {
   "cell_type": "markdown",
   "metadata": {},
   "source": [
    "* **Task 3.1:** Convert the `greeting` string to uppercase using the `upper()` method and print the result. Then, convert it to lowercase using the `lower()` method and print it.\n"
   ]
  },
  {
   "cell_type": "code",
   "execution_count": 15,
   "metadata": {},
   "outputs": [
    {
     "name": "stdout",
     "output_type": "stream",
     "text": [
      "HELLO, WORLD!\n",
      "hello, world!\n"
     ]
    }
   ],
   "source": [
    "# Task 3.1\n",
    "print(greeting.upper())\n",
    "print(greeting.lower())"
   ]
  },
  {
   "cell_type": "markdown",
   "metadata": {},
   "source": [
    "* **Task 3.2:** Split the `greeting` string into individual words using the `split()` method and print the list of words.\n"
   ]
  },
  {
   "cell_type": "code",
   "execution_count": 16,
   "metadata": {},
   "outputs": [
    {
     "name": "stdout",
     "output_type": "stream",
     "text": [
      "['Hello,', 'world!']\n"
     ]
    }
   ],
   "source": [
    "# Task 3.2\n",
    "print(greeting.split())"
   ]
  },
  {
   "cell_type": "markdown",
   "metadata": {},
   "source": [
    "## Additional Challenges\n",
    "\n",
    "For a deeper understanding, try these additional tasks:\n"
   ]
  },
  {
   "cell_type": "markdown",
   "metadata": {},
   "source": [
    "* **Challenge 1:** Use the `format()` method to create a personalized greeting. For instance,  `\"Hello, {name}!\"` where `{name}` is replaced with a variable `user_name` that you define.\n"
   ]
  },
  {
   "cell_type": "code",
   "execution_count": 17,
   "metadata": {},
   "outputs": [
    {
     "name": "stdout",
     "output_type": "stream",
     "text": [
      "Hello, Hazem!\n"
     ]
    }
   ],
   "source": [
    "# Challenge 1\n",
    "name = \"Hazem\"\n",
    "print(f\"Hello, {name}!\")"
   ]
  },
  {
   "cell_type": "markdown",
   "metadata": {},
   "source": [
    "* **Challenge 2:** Write a Python script that reverses the `greeting` string and prints it.\n"
   ]
  },
  {
   "cell_type": "code",
   "execution_count": 29,
   "metadata": {},
   "outputs": [
    {
     "name": "stdout",
     "output_type": "stream",
     "text": [
      "!dlrow ,olleH\n",
      "Hello, world!\n"
     ]
    }
   ],
   "source": [
    "# Challenge 2\n",
    "print(greeting[::-1])\n",
    "print(greeting)"
   ]
  }
 ],
 "metadata": {
  "kernelspec": {
   "display_name": "Python (myenv)",
   "language": "python",
   "name": "myenv"
  },
  "language_info": {
   "codemirror_mode": {
    "name": "ipython",
    "version": 3
   },
   "file_extension": ".py",
   "mimetype": "text/x-python",
   "name": "python",
   "nbconvert_exporter": "python",
   "pygments_lexer": "ipython3",
   "version": "3.12.5"
  }
 },
 "nbformat": 4,
 "nbformat_minor": 2
}
