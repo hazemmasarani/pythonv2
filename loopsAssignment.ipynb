{
 "cells": [
  {
   "cell_type": "markdown",
   "metadata": {},
   "source": [
    "# Mastering Python Loops Assignment"
   ]
  },
  {
   "cell_type": "markdown",
   "metadata": {},
   "source": [
    "\n",
    "## Exercise 1: Basic Loop Structures\n",
    "\n",
    "Understanding the basics of loops is essential for iteration in Python.\n",
    "\n",
    "- **Task 1.1:** Write a `while` loop that prints the numbers 1 through 10.\n",
    "- **Task 1.2:** Write a `for` loop that prints each character in the string `\"Python\"`.\n",
    "- **Task 1.3:** Create a `for` loop that iterates over a list of numbers and prints the square of each number."
   ]
  },
  {
   "cell_type": "code",
   "execution_count": 2,
   "metadata": {},
   "outputs": [
    {
     "name": "stdout",
     "output_type": "stream",
     "text": [
      "1, 2, 3, 4, 5, 6, 7, 8, 9, 10, 11, \n",
      "\n",
      "P, y, t, h, o, n, \n",
      "\n",
      "1, 4, 9, 16, 25, 36, 49, "
     ]
    }
   ],
   "source": [
    "i = 0\n",
    "while i <= 10:\n",
    "    i += 1\n",
    "    print(i, end=\", \")\n",
    "\n",
    "print(\"\\n\")\n",
    "for i in \"Python\":\n",
    "    print(i,end=\", \")\n",
    "print(\"\\n\")\n",
    "\n",
    "for i in [1,2,3,4,5,6,7]:\n",
    "    print(pow(i,2), end=\", \")"
   ]
  },
  {
   "cell_type": "markdown",
   "metadata": {},
   "source": [
    "## Exercise 2: Controlling Loop Flow\n",
    "\n",
    "`break` and `continue` statements can modify the flow of loops.\n",
    "\n",
    "- **Task 2.1:** Write a `while` loop that stops printing numbers from 1 to 10 when the number reaches 7 using the `break` statement.\n",
    "- **Task 2.2:** Write a `for` loop that skips printing the number 5 when iterating over numbers 1 through 10 using the `continue` statement.\n"
   ]
  },
  {
   "cell_type": "code",
   "execution_count": 8,
   "metadata": {},
   "outputs": [
    {
     "name": "stdout",
     "output_type": "stream",
     "text": [
      "1, 2, 3, 4, 5, 6, \n",
      "\n",
      "0, 1, 2, 3, 4, 6, 7, 8, 9, 10, "
     ]
    }
   ],
   "source": [
    "i = 1\n",
    "while i <= 10:\n",
    "    if i == 7:\n",
    "        break\n",
    "    print(i, end=\", \")\n",
    "    i += 1\n",
    "\n",
    "print(\"\\n\")\n",
    "for i in range(11):\n",
    "    if i == 5:\n",
    "        continue\n",
    "    print(i,end=\", \")\n"
   ]
  },
  {
   "cell_type": "markdown",
   "metadata": {},
   "source": [
    "## Exercise 3: Nested Loops\n",
    "\n",
    "Nested loops allow for more complex iterations and data processing.\n",
    "\n",
    "grid_list = [\n",
    "[[0,0],[0,1],[0,2]],\n",
    "[[1,0],[1,1],[1,2]],\n",
    "[[2,0],[2,1],[2,2]]\n",
    "]\n",
    "_CHALLENGE_\n",
    "\n",
    "- **Task 3.1:** Write a nested `for` loop that prints a 3x3 grid of numbers (i.e., rows and columns of numbers from 0 to 2).\n",
    "  ^^ skip task 3.1\n",
    "- **Task 3.2:** Using nested loops, write a program to print the multiplication table for numbers 1 through 5."
   ]
  },
  {
   "cell_type": "code",
   "execution_count": 11,
   "metadata": {},
   "outputs": [
    {
     "name": "stdout",
     "output_type": "stream",
     "text": [
      "[[[0, 0], [0, 1], [0, 2]], [[1, 0], [1, 1], [1, 2]], [[2, 0], [2, 1], [2, 2]]]\n",
      "multiplication table of 1\n",
      "1 x 1 = 1\n",
      "1 x 2 = 2\n",
      "1 x 3 = 3\n",
      "1 x 4 = 4\n",
      "1 x 5 = 5\n",
      "1 x 6 = 6\n",
      "1 x 7 = 7\n",
      "1 x 8 = 8\n",
      "1 x 9 = 9\n",
      "1 x 10 = 10\n",
      "multiplication table of 2\n",
      "2 x 1 = 2\n",
      "2 x 2 = 4\n",
      "2 x 3 = 6\n",
      "2 x 4 = 8\n",
      "2 x 5 = 10\n",
      "2 x 6 = 12\n",
      "2 x 7 = 14\n",
      "2 x 8 = 16\n",
      "2 x 9 = 18\n",
      "2 x 10 = 20\n",
      "multiplication table of 3\n",
      "3 x 1 = 3\n",
      "3 x 2 = 6\n",
      "3 x 3 = 9\n",
      "3 x 4 = 12\n",
      "3 x 5 = 15\n",
      "3 x 6 = 18\n",
      "3 x 7 = 21\n",
      "3 x 8 = 24\n",
      "3 x 9 = 27\n",
      "3 x 10 = 30\n",
      "multiplication table of 4\n",
      "4 x 1 = 4\n",
      "4 x 2 = 8\n",
      "4 x 3 = 12\n",
      "4 x 4 = 16\n",
      "4 x 5 = 20\n",
      "4 x 6 = 24\n",
      "4 x 7 = 28\n",
      "4 x 8 = 32\n",
      "4 x 9 = 36\n",
      "4 x 10 = 40\n",
      "multiplication table of 5\n",
      "5 x 1 = 5\n",
      "5 x 2 = 10\n",
      "5 x 3 = 15\n",
      "5 x 4 = 20\n",
      "5 x 5 = 25\n",
      "5 x 6 = 30\n",
      "5 x 7 = 35\n",
      "5 x 8 = 40\n",
      "5 x 9 = 45\n",
      "5 x 10 = 50\n"
     ]
    }
   ],
   "source": [
    "nested_list = []\n",
    "for i in range(3):\n",
    "    nested_list.append([])\n",
    "    for j in range(3):\n",
    "        nested_list[-1].append([i,j])\n",
    "print(nested_list)\n",
    "\n",
    "for i in range(1, 6):\n",
    "    print(f\"multiplication table of {i}\")\n",
    "    for j in range(1,11):\n",
    "        print(f\"{i} x {j} = {i*j}\")"
   ]
  },
  {
   "cell_type": "markdown",
   "metadata": {},
   "source": [
    "## Exercise 4: Looping with Ranges\n",
    "\n",
    "The `range()` function is a useful tool for generating sequences of numbers in loops.\n",
    "\n",
    "- **Task 4.1:** Write a `for` loop that prints only the even numbers from 1 to 20 using the `range()` function.\n",
    "- **Task 4.2:** Write a `for` loop that counts down from 10 to 1 using the `range()` function.\n"
   ]
  },
  {
   "cell_type": "code",
   "execution_count": 2,
   "metadata": {},
   "outputs": [
    {
     "name": "stdout",
     "output_type": "stream",
     "text": [
      "2, 4, 6, 8, 10, 12, 14, 16, 18, 20, "
     ]
    }
   ],
   "source": [
    "# Task 4.1\n",
    "# use range method range(start, end, step)\n",
    "for i in range(2,21,2):\n",
    "    print(i, end=\", \")"
   ]
  },
  {
   "cell_type": "code",
   "execution_count": 3,
   "metadata": {},
   "outputs": [
    {
     "name": "stdout",
     "output_type": "stream",
     "text": [
      "10, 9, 8, 7, 6, 5, 4, 3, 2, 1, "
     ]
    }
   ],
   "source": [
    "# Task 4.2\n",
    "# use range method range(start, end, step) start from 10, end at 0, and set step -1\n",
    "for i in range(10, 0, -1):\n",
    "    print(i, end=\", \")"
   ]
  },
  {
   "cell_type": "markdown",
   "metadata": {},
   "source": [
    "## Exercise 5: Real-World Applications of Loops\n",
    "\n",
    "Loops can be applied in real-world scenarios for tasks like data processing or automation.\n",
    "\n",
    "- **Task 5.1:** Write a `for` loop that asks the user to input 5 different names and stores them in a list. Then, print each name.\n",
    "- **Task 5.2:** Write a `while` loop that keeps asking the user to guess a secret number until they get it right. Use `break` when they guess correctly.\n"
   ]
  },
  {
   "cell_type": "code",
   "execution_count": 4,
   "metadata": {},
   "outputs": [
    {
     "name": "stdout",
     "output_type": "stream",
     "text": [
      "['1', '2', '3', '4', '5']\n"
     ]
    }
   ],
   "source": [
    "names = []\n",
    "index = {0:'first', 1:'second',2:'third', 3:'fourth', 4:'fifth'}\n",
    "for i in range(5):\n",
    "    names.append(input(f\"Enter {index[i]} name: \"))\n",
    "print(names)"
   ]
  },
  {
   "cell_type": "code",
   "execution_count": 1,
   "metadata": {},
   "outputs": [],
   "source": [
    "import random\n",
    "num = random.randint(1,10)\n",
    "\n",
    "enterd_num = -1\n",
    "while(enterd_num != num):\n",
    "    enterd_num = int(input(\"Enter number from 1 to 10: \"))\n"
   ]
  },
  {
   "cell_type": "code",
   "execution_count": null,
   "metadata": {},
   "outputs": [],
   "source": [
    "4"
   ]
  }
 ],
 "metadata": {
  "kernelspec": {
   "display_name": "Python (myenv)",
   "language": "python",
   "name": "myenv"
  },
  "language_info": {
   "codemirror_mode": {
    "name": "ipython",
    "version": 3
   },
   "file_extension": ".py",
   "mimetype": "text/x-python",
   "name": "python",
   "nbconvert_exporter": "python",
   "pygments_lexer": "ipython3",
   "version": "3.12.5"
  }
 },
 "nbformat": 4,
 "nbformat_minor": 2
}
