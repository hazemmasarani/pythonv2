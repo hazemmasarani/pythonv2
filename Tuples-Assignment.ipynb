{
 "cells": [
  {
   "cell_type": "markdown",
   "metadata": {},
   "source": [
    "# Tuples in Python Assignment\n",
    "\n",
    "## Exercise 1: Tuple Basics\n",
    "\n",
    "Tuples are immutable collections in Python for storing a sequence of heterogeneous elements.\n",
    "\n",
    "* **Task 1.1:** Create a tuple named `my_tuple` with the elements `1`,  `\"hello\"`, and `3.14`. Print the tuple to verify its contents.\n"
   ]
  },
  {
   "cell_type": "code",
   "execution_count": 1,
   "metadata": {},
   "outputs": [
    {
     "name": "stdout",
     "output_type": "stream",
     "text": [
      "(1, 'hello', 3.14)\n"
     ]
    }
   ],
   "source": [
    "# Task 1.1\n",
    "my_tuple = (1, \"hello\", 3.14)\n",
    "print(my_tuple)"
   ]
  },
  {
   "cell_type": "markdown",
   "metadata": {},
   "source": [
    "* **Task 1.2:** Access and print the first element of `my_tuple` using indexing.\n"
   ]
  },
  {
   "cell_type": "code",
   "execution_count": 3,
   "metadata": {},
   "outputs": [
    {
     "name": "stdout",
     "output_type": "stream",
     "text": [
      "0\n",
      "1\n"
     ]
    }
   ],
   "source": [
    "# Task 1.2\n",
    "print(my_tuple.index(1))\n",
    "print(my_tuple.index(\"hello\"))"
   ]
  },
  {
   "cell_type": "markdown",
   "metadata": {},
   "source": [
    "## Exercise 2: Tuple Operations and Methods\n",
    "\n",
    "Understanding and using tuple methods and operations is essential for efficient Python programming.\n",
    "\n",
    "* **Task 2.1:** Use the `count()` method to find and print the number of times `1` appears in `my_tuple`.\n"
   ]
  },
  {
   "cell_type": "code",
   "execution_count": 8,
   "metadata": {},
   "outputs": [
    {
     "name": "stdout",
     "output_type": "stream",
     "text": [
      "1\n",
      "1\n",
      "0\n"
     ]
    }
   ],
   "source": [
    "# Task 2.1\n",
    "print(my_tuple.count(1))\n",
    "print(my_tuple.count(\"hello\"))\n",
    "\n",
    "print(my_tuple.count(33))"
   ]
  },
  {
   "cell_type": "markdown",
   "metadata": {},
   "source": [
    "* **Task 2.2:** Find and print the index of `\"hello\"` in `my_tuple` using the `index()` method.\n"
   ]
  },
  {
   "cell_type": "code",
   "execution_count": 9,
   "metadata": {},
   "outputs": [
    {
     "name": "stdout",
     "output_type": "stream",
     "text": [
      "1\n"
     ]
    }
   ],
   "source": [
    "# Task 2.2\n",
    "print(my_tuple.index(\"hello\"))"
   ]
  },
  {
   "cell_type": "markdown",
   "metadata": {},
   "source": [
    "## Exercise 3: Tuple Immutability\n",
    "\n",
    "Immutability is a defining characteristic of tuples that differentiates them from lists.\n",
    "\n",
    "* **Task 3.1:** Attempt to change the second element of `my_tuple` to `\"world\"` and observe the result. Note the type of error message you receive.\n"
   ]
  },
  {
   "cell_type": "code",
   "execution_count": 11,
   "metadata": {},
   "outputs": [
    {
     "ename": "TypeError",
     "evalue": "'tuple' object does not support item assignment",
     "output_type": "error",
     "traceback": [
      "\u001b[1;31m---------------------------------------------------------------------------\u001b[0m",
      "\u001b[1;31mTypeError\u001b[0m                                 Traceback (most recent call last)",
      "Cell \u001b[1;32mIn[11], line 2\u001b[0m\n\u001b[0;32m      1\u001b[0m \u001b[38;5;66;03m# Task 3.1\u001b[39;00m\n\u001b[1;32m----> 2\u001b[0m \u001b[43mmy_tuple\u001b[49m\u001b[43m[\u001b[49m\u001b[38;5;241;43m1\u001b[39;49m\u001b[43m]\u001b[49m \u001b[38;5;241m=\u001b[39m \u001b[38;5;124m\"\u001b[39m\u001b[38;5;124mworld\u001b[39m\u001b[38;5;124m\"\u001b[39m\n",
      "\u001b[1;31mTypeError\u001b[0m: 'tuple' object does not support item assignment"
     ]
    }
   ],
   "source": [
    "# Task 3.1\n",
    "my_tuple[1] = \"world\""
   ]
  },
  {
   "cell_type": "markdown",
   "metadata": {},
   "source": [
    "* **Task 3.2:** Reflect on why this error occurred and what it signifies about the nature of tuples.\n"
   ]
  },
  {
   "cell_type": "code",
   "execution_count": 12,
   "metadata": {},
   "outputs": [],
   "source": [
    "# Task 3.2\n",
    "# tuples are imutable"
   ]
  },
  {
   "cell_type": "markdown",
   "metadata": {},
   "source": [
    "## Exercise 4: Tuple Packing and Unpacking\n",
    "\n",
    "Tuple packing and unpacking are potent features in Python for handling multiple data items.\n",
    "\n",
    "* **Task 4.1:** Create a tuple `packed_tuple` with values `2`,  `4`, and `6` using tuple packing. Print `packed_tuple`.\n"
   ]
  },
  {
   "cell_type": "code",
   "execution_count": 13,
   "metadata": {},
   "outputs": [
    {
     "name": "stdout",
     "output_type": "stream",
     "text": [
      "(2, 4, 6)\n"
     ]
    }
   ],
   "source": [
    "# Task 4.1\n",
    "packed_tuple = 2, 4, 6\n",
    "print(packed_tuple)"
   ]
  },
  {
   "cell_type": "markdown",
   "metadata": {},
   "source": [
    "* **Task 4.2:** Unpack `packed_tuple` into three variables `a`,  `b`, and `c` and print their values.\n"
   ]
  },
  {
   "cell_type": "code",
   "execution_count": 14,
   "metadata": {},
   "outputs": [
    {
     "name": "stdout",
     "output_type": "stream",
     "text": [
      "2 4 6\n"
     ]
    }
   ],
   "source": [
    "# Task 4.2\n",
    "a, b, c = packed_tuple\n",
    "print(a,b,c)"
   ]
  },
  {
   "cell_type": "markdown",
   "metadata": {},
   "source": [
    "## Exercise 5: When to Use Tuples\n",
    "\n",
    "Understanding when to choose tuples over lists is essential for efficient Python programming.\n",
    "\n",
    "* **Task 5.1:** Write a short paragraph explaining a scenario where using a tuple would be more appropriate than a list. Consider aspects like data integrity, performance, and the immutability of tuples.\n"
   ]
  },
  {
   "cell_type": "markdown",
   "metadata": {},
   "source": [
    "Task 5.1:\n",
    "When you are working on a big project as GPS. You need to make sure that the index of the elements do not change.\n",
    "Tuples are imutable you can't change its value oce created. You use it to make sure that the objct created never change."
   ]
  },
  {
   "cell_type": "markdown",
   "metadata": {},
   "source": [
    "## Reflection\n",
    "\n",
    "After completing these exercises, reflect on the following:\n",
    "\n",
    "* How do tuples enhance data integrity in Python programming?\n",
    "* How do tuples' immutability and performance benefits influence how you might use them in future projects?\n",
    "* Describe how tuple packing and unpacking can produce more readable and efficient code.\n",
    "\n",
    "By engaging with these exercises, you will understand the importance and utility of tuples in Python programming.\n"
   ]
  }
 ],
 "metadata": {
  "kernelspec": {
   "display_name": "Python (myenv)",
   "language": "python",
   "name": "myenv"
  },
  "language_info": {
   "codemirror_mode": {
    "name": "ipython",
    "version": 3
   },
   "file_extension": ".py",
   "mimetype": "text/x-python",
   "name": "python",
   "nbconvert_exporter": "python",
   "pygments_lexer": "ipython3",
   "version": "3.12.5"
  }
 },
 "nbformat": 4,
 "nbformat_minor": 2
}
