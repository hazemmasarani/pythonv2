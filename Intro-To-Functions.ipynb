{
 "cells": [
  {
   "cell_type": "markdown",
   "metadata": {},
   "source": [
    "Introduction to Functions in Python\n",
    "\n",
    "## Objectives\n",
    "\n",
    "* Understand the concept and structure of a function in Python.\n",
    "* Learn how to define and call functions with and without parameters.\n",
    "* Explore how to return values from functions and the significance of the `return` statement.\n",
    "\n",
    "### 1. What is a Function?\n",
    "\n",
    "A function is a block of reusable code designed to perform a specific task. It helps organize code into logical and modular units, enhancing readability and maintainability. Functions in Python are defined using the `def` keyword.\n",
    "\n",
    "### 2. Anatomy of a Function\n",
    "\n",
    "A function in Python is defined using the `def` keyword, followed by the function name and parentheses. Parameters, if any, are specified inside the parentheses. The function body, indented below the definition, contains the code the function will execute.\n",
    "\n",
    "#### Example\n"
   ]
  },
  {
   "cell_type": "code",
   "execution_count": null,
   "metadata": {},
   "outputs": [],
   "source": [
    "def greet(name):\n",
    "    print(f\"Hello, {name}!\")\n",
    "\n",
    "\n",
    "# This function, `greet`, takes one parameter, `name`, and prints a greeting message."
   ]
  },
  {
   "cell_type": "markdown",
   "metadata": {},
   "source": [
    "### 3. Returning Values From Functions\n",
    "\n",
    "Functions often return values. The `return` keyword exits a function and returns a value.\n",
    "\n",
    "#### Example\n"
   ]
  },
  {
   "cell_type": "code",
   "execution_count": null,
   "metadata": {},
   "outputs": [],
   "source": [
    "def add(x, y):\n",
    "    return x + y\n",
    "\n",
    "\n",
    "result = add(3, 4)\n",
    "print(result)  # Output: 7\n",
    "\n",
    "# This function, `add`, returns the sum of two numbers."
   ]
  },
  {
   "cell_type": "markdown",
   "metadata": {},
   "source": [
    "### 4. Function Parameters and Arguments\n",
    "\n",
    "Parameters are variables listed in the function definition. Arguments are the actual values passed to the function.\n",
    "\n",
    "#### Example\n"
   ]
  },
  {
   "cell_type": "code",
   "execution_count": null,
   "metadata": {},
   "outputs": [],
   "source": [
    "def multiply(x, y):\n",
    "    return x * y\n",
    "\n",
    "\n",
    "result = multiply(2, 5)  # 2 and 5 are arguments\n",
    "print(result)  # Output: 10"
   ]
  },
  {
   "cell_type": "markdown",
   "metadata": {},
   "source": [
    "### 5. Default Parameter Values\n",
    "\n",
    "You can assign default values to parameters. If no argument is provided, the function uses this default value.\n",
    "\n",
    "#### Example\n"
   ]
  },
  {
   "cell_type": "code",
   "execution_count": null,
   "metadata": {},
   "outputs": [],
   "source": [
    "def greet(name=\"Guest\"):\n",
    "    print(f\"Hello, {name}!\")\n",
    "\n",
    "\n",
    "greet()  # Output: Hello, Guest!\n",
    "greet(\"Alice\")  # Output: Hello, Alice!"
   ]
  },
  {
   "cell_type": "markdown",
   "metadata": {},
   "source": [
    "### 6. Keyword Arguments\n",
    "\n",
    "Keyword arguments allow you to pass arguments in any order by specifying the parameter name.\n",
    "\n",
    "#### Example\n"
   ]
  },
  {
   "cell_type": "code",
   "execution_count": null,
   "metadata": {},
   "outputs": [],
   "source": [
    "def describe_pet(animal, name):\n",
    "    print(f\"I have a {animal} named {name}.\")\n",
    "\n",
    "\n",
    "describe_pet(name=\"Whiskers\", animal=\"cat\")  # Order can be changed"
   ]
  },
  {
   "cell_type": "markdown",
   "metadata": {},
   "source": [
    "### Summary\n",
    "\n",
    "Functions in Python are crucial for structuring code, making it more readable and maintainable. They allow for code reuse and logical segmentation of tasks within a program.\n"
   ]
  }
 ],
 "metadata": {
  "language_info": {
   "name": "python"
  }
 },
 "nbformat": 4,
 "nbformat_minor": 2
}
