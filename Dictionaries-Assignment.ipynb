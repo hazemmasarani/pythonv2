{
 "cells": [
  {
   "cell_type": "markdown",
   "metadata": {},
   "source": [
    "# Mastering Python Dictionaries Assignment\n",
    "\n",
    "## Exercise 1: Dictionary Basics\n",
    "\n",
    "Dictionaries in Python are powerful tools for storing and managing data in key-value pairs.\n",
    "\n",
    "- **Task 1.1:** Create a dictionary named `my_dict` with keys `'name'` and `'age'` having values `'John'` and `30`, respectively. Print the dictionary."
   ]
  },
  {
   "cell_type": "code",
   "execution_count": 1,
   "metadata": {},
   "outputs": [
    {
     "name": "stdout",
     "output_type": "stream",
     "text": [
      "{'name': 'John', 'age': 30}\n"
     ]
    }
   ],
   "source": [
    "# Task 1.1\n",
    "my_dict = {'name':\"John\",'age':30}\n",
    "print(my_dict)"
   ]
  },
  {
   "cell_type": "markdown",
   "metadata": {},
   "source": [
    "- **Task 1.2:** Access and print the value associated with the key `'name'` in `my_dict`."
   ]
  },
  {
   "cell_type": "code",
   "execution_count": 2,
   "metadata": {},
   "outputs": [
    {
     "name": "stdout",
     "output_type": "stream",
     "text": [
      "John\n"
     ]
    }
   ],
   "source": [
    "# Task 1.2\n",
    "print(my_dict['name'])"
   ]
  },
  {
   "cell_type": "markdown",
   "metadata": {},
   "source": [
    "## Exercise 2: Dictionary Methods\n",
    "\n",
    "Learning to use dictionary methods effectively is crucial for manipulating and retrieving data.\n",
    "\n",
    "- **Task 2.1:** Use the `get()` method to retrieve the value for the key `'email'`. If `'email'` is not a key, it should return `'Not Found'`. Print the result."
   ]
  },
  {
   "cell_type": "code",
   "execution_count": 15,
   "metadata": {},
   "outputs": [
    {
     "name": "stdout",
     "output_type": "stream",
     "text": [
      "john@example.com\n"
     ]
    }
   ],
   "source": [
    "# Task 2.1\n",
    "if my_dict.get(\"email\") == None:\n",
    "    print(\"Not found\")\n",
    "else:\n",
    "    print(my_dict.get(\"email\"))"
   ]
  },
  {
   "cell_type": "markdown",
   "metadata": {},
   "source": [
    "- **Task 2.2:** Print all the keys in `my_dict` using the `keys()` method."
   ]
  },
  {
   "cell_type": "code",
   "execution_count": 4,
   "metadata": {},
   "outputs": [
    {
     "name": "stdout",
     "output_type": "stream",
     "text": [
      "dict_keys(['name', 'age'])\n"
     ]
    }
   ],
   "source": [
    "# Task 2.2\n",
    "print(my_dict.keys())"
   ]
  },
  {
   "cell_type": "markdown",
   "metadata": {},
   "source": [
    "- **Task 2.3:** Print all the values in `my_dict` using the `values()` method."
   ]
  },
  {
   "cell_type": "code",
   "execution_count": 5,
   "metadata": {},
   "outputs": [
    {
     "name": "stdout",
     "output_type": "stream",
     "text": [
      "dict_values(['John', 30])\n"
     ]
    }
   ],
   "source": [
    "# Task 2.3\n",
    "print(my_dict.values())"
   ]
  },
  {
   "cell_type": "markdown",
   "metadata": {},
   "source": [
    "- **Task 2.4:** Print each key-value pair in `my_dict` using the `items()` method."
   ]
  },
  {
   "cell_type": "code",
   "execution_count": 6,
   "metadata": {},
   "outputs": [
    {
     "name": "stdout",
     "output_type": "stream",
     "text": [
      "dict_items([('name', 'John'), ('age', 30)])\n"
     ]
    }
   ],
   "source": [
    "# Task 2.4\n",
    "print(my_dict.items())"
   ]
  },
  {
   "cell_type": "markdown",
   "metadata": {},
   "source": [
    "- **Task 2.5:** Use the `update()` method to add a new key-value pair, `'email': 'john@example.com'`, to `my_dict`. Print the updated dictionary."
   ]
  },
  {
   "cell_type": "code",
   "execution_count": 9,
   "metadata": {},
   "outputs": [
    {
     "name": "stdout",
     "output_type": "stream",
     "text": [
      "{'name': 'John', 'age': 30, 'email': 'john@example.com'}\n"
     ]
    }
   ],
   "source": [
    "# Task 2.5\n",
    "my_dict.update({'email':'john@example.com'})\n",
    "print(my_dict)"
   ]
  },
  {
   "cell_type": "markdown",
   "metadata": {},
   "source": [
    "- **Task 2.6:** Remove the key `'age'` from `my_dict` using the `pop()` method and print the popped value and the updated dictionary."
   ]
  },
  {
   "cell_type": "code",
   "execution_count": 11,
   "metadata": {},
   "outputs": [
    {
     "name": "stdout",
     "output_type": "stream",
     "text": [
      "{'name': 'John', 'email': 'john@example.com'}\n"
     ]
    }
   ],
   "source": [
    "# Task 2.6\n",
    "my_dict.pop(\"age\")\n",
    "print(my_dict)"
   ]
  },
  {
   "cell_type": "markdown",
   "metadata": {},
   "source": [
    "## Exercise 3: Advanced Dictionary Operations\n",
    "\n",
    "Exploring advanced features of dictionaries can enhance your data handling capabilities.\n",
    "\n",
    "- **Task 3.1:** Create a nested dictionary named `nested_dict` with at least two keys, each containing another dictionary as its value. Print `nested_dict`."
   ]
  },
  {
   "cell_type": "code",
   "execution_count": 12,
   "metadata": {},
   "outputs": [
    {
     "name": "stdout",
     "output_type": "stream",
     "text": [
      "{'dic1': {'key1': 'val1'}, 'dic2': {'key1': 'value1'}}\n"
     ]
    }
   ],
   "source": [
    "# Task 3.1\n",
    "nested_dict = {'dic1':{'key1':'val1'}, 'dic2':{'key1':'value1'}}\n",
    "print(nested_dict)"
   ]
  },
  {
   "cell_type": "markdown",
   "metadata": {},
   "source": [
    "- **Task 3.2:** Access and print a value from one of the inner dictionaries in `nested_dict`."
   ]
  },
  {
   "cell_type": "code",
   "execution_count": 13,
   "metadata": {},
   "outputs": [
    {
     "name": "stdout",
     "output_type": "stream",
     "text": [
      "val1\n"
     ]
    }
   ],
   "source": [
    "# Task 3.2\n",
    "print(nested_dict['dic1']['key1'])"
   ]
  },
  {
   "cell_type": "markdown",
   "metadata": {},
   "source": [
    "- **Task 3.3:** Write a dictionary comprehension to create a new dictionary that inverts `my_dict`, swapping keys and values. Print the new dictionary."
   ]
  },
  {
   "cell_type": "code",
   "execution_count": 14,
   "metadata": {},
   "outputs": [
    {
     "name": "stdout",
     "output_type": "stream",
     "text": [
      "{'John': 'name', 'john@example.com': 'email'}\n"
     ]
    }
   ],
   "source": [
    "# Task 3.3\n",
    "new_dict = {}\n",
    "for key, val in my_dict.items():\n",
    "    new_dict[val]=key\n",
    "\n",
    "print(new_dict)"
   ]
  },
  {
   "cell_type": "markdown",
   "metadata": {},
   "source": [
    "## Reflection\n",
    "\n",
    "After completing these exercises, reflect on the following:\n",
    "\n",
    "- How do dictionaries in Python simplify data management and retrieval?\n",
    "- Describe a real-world scenario where a nested dictionary could be handy.\n",
    "- Reflect on how dictionary methods and comprehensions can produce more efficient and readable code.\n",
    "\n",
    "Engaging with these exercises will deepen your understanding of dictionaries in Python and their practical applications in programming."
   ]
  },
  {
   "cell_type": "markdown",
   "metadata": {},
   "source": [
    "Reflect:"
   ]
  }
 ],
 "metadata": {
  "kernelspec": {
   "display_name": "Python (myenv)",
   "language": "python",
   "name": "myenv"
  },
  "language_info": {
   "codemirror_mode": {
    "name": "ipython",
    "version": 3
   },
   "file_extension": ".py",
   "mimetype": "text/x-python",
   "name": "python",
   "nbconvert_exporter": "python",
   "pygments_lexer": "ipython3",
   "version": "3.12.5"
  }
 },
 "nbformat": 4,
 "nbformat_minor": 2
}
