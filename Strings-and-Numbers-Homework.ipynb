{
 "cells": [
  {
   "cell_type": "markdown",
   "metadata": {},
   "source": [
    "# Combined Homework Assignment: Strings and Numbers in Python\n",
    "\n",
    "This assignment integrates the concepts of string manipulation and numerical operations in Python, offering a comprehensive understanding of these fundamental topics.\n",
    "\n",
    "## Part 1: Strings\n"
   ]
  },
  {
   "cell_type": "markdown",
   "metadata": {},
   "source": [
    "### Task 1.1: Format a Personal Introduction\n",
    "\n",
    "- **Objective:** Create a Python script that uses f-string formatting.\n",
    "- **Requirements:**\n",
    "  - Define two variables: `name` (string) and `age` (integer/float).\n",
    "  - Format and print a message like: `\"My name is [name] and I am [age] years old.\"`\n"
   ]
  },
  {
   "cell_type": "code",
   "execution_count": 1,
   "metadata": {},
   "outputs": [],
   "source": [
    "# Task 1.1\n",
    "name = \"Hazem\"\n",
    "age = 100\n",
    "message = f\"My name is {name} and I am {age} years old.\""
   ]
  },
  {
   "cell_type": "markdown",
   "metadata": {},
   "source": [
    "### Task 1.2: Build a Simple Text Processor\n",
    "\n",
    "- **Objective:** Develop a program to process text input.\n",
    "- **Requirements:**\n",
    "  - Prompt for a sentence input.\n",
    "  - Count and print the number of words.\n",
    "  - Replace a specified word and print the new sentence.\n"
   ]
  },
  {
   "cell_type": "code",
   "execution_count": 3,
   "metadata": {},
   "outputs": [
    {
     "name": "stdout",
     "output_type": "stream",
     "text": [
      "3\n",
      "Hi I'm H@zem.\n"
     ]
    }
   ],
   "source": [
    "# Task 1.2\n",
    "sentence = input(\"input >\")\n",
    "print(len(sentence.split()))\n",
    "replaced_word_string = sentence.replace(\"a\",\"@\")\n",
    "print(replaced_word_string)"
   ]
  },
  {
   "cell_type": "markdown",
   "metadata": {},
   "source": [
    "### Task 1.3: Explore Escape Characters\n",
    "\n",
    "- **Objective:** Understand the use of escape characters in strings.\n",
    "- **Requirements:**\n",
    "  - Create a string with quotes, a newline, and a tab space.\n",
    "  - Print the string to demonstrate escape characters.\n"
   ]
  },
  {
   "cell_type": "code",
   "execution_count": 5,
   "metadata": {},
   "outputs": [
    {
     "name": "stdout",
     "output_type": "stream",
     "text": [
      "\n",
      "    This is string contains quotes \"\"\n",
      "    new line\n",
      "    and\ttab\tspace.\n",
      "\n"
     ]
    }
   ],
   "source": [
    "# Task 1.3\n",
    "s = \"\"\"\n",
    "    This is string contains quotes \"\"\n",
    "    new line\n",
    "    and\\ttab\\tspace.\n",
    "\"\"\"\n",
    "print(s)"
   ]
  },
  {
   "cell_type": "markdown",
   "metadata": {},
   "source": [
    "## Part 2: Numbers\n"
   ]
  },
  {
   "cell_type": "markdown",
   "metadata": {},
   "source": [
    "### Task 2.1: Calculator Program\n",
    "\n",
    "- **Objective:** Develop a basic calculator.\n",
    "- **Requirements:**\n",
    "  - Input two numbers from the user.\n",
    "  - Choose an operation (add, subtract, multiply, divide).\n",
    "  - Perform and print the result of the operation.\n"
   ]
  },
  {
   "cell_type": "code",
   "execution_count": 8,
   "metadata": {},
   "outputs": [
    {
     "name": "stdout",
     "output_type": "stream",
     "text": [
      "5\n"
     ]
    }
   ],
   "source": [
    "# Task 2.1\n",
    "first_number = float(input(\"First number:\\t>\"))\n",
    "second_number = float(input(\"Second number:\\t>\"))\n",
    "operator = input(\"Select operation '+,-,/,*' >\")\n",
    "if operator == '+':\n",
    "    print(first_number + second_number)\n",
    "elif operator == '-':\n",
    "    print(first_number - second_number)\n",
    "elif operator == '*':\n",
    "    print(first_number * second_number)\n",
    "elif operator == '/' and second_number != 0:\n",
    "    print(first_number / second_number)\n",
    "elif operator == '/' and second_number == 0:\n",
    "    print(first_number / second_number)\n",
    "else:\n",
    "    print(\"Not valid input\")\n"
   ]
  },
  {
   "cell_type": "markdown",
   "metadata": {},
   "source": [
    "### Task 2.2: Explore the Random Module\n",
    "\n",
    "- **Objective:** Utilize the `random` module.\n",
    "- **Requirements:**\n",
    "  - Generate and print 5 random integers between 1 and 100.\n"
   ]
  },
  {
   "cell_type": "code",
   "execution_count": 10,
   "metadata": {},
   "outputs": [
    {
     "name": "stdout",
     "output_type": "stream",
     "text": [
      "98\n",
      "87\n",
      "60\n",
      "74\n",
      "69\n"
     ]
    }
   ],
   "source": [
    "# Task 2.2\n",
    "import random\n",
    "for i in range(5):\n",
    "    print(random.randint(1,100))"
   ]
  },
  {
   "cell_type": "markdown",
   "metadata": {},
   "source": [
    "### Task 2.3: Infinite and NaN (Not a Number) Concepts\n",
    "\n",
    "- **Objective:** Demonstrate the use of infinity and NaN in Python.\n",
    "- **Requirements:**\n",
    "  - Show how to create and use infinite and NaN values.\n",
    "  - Test and identify if a variable contains these values.\n"
   ]
  },
  {
   "cell_type": "code",
   "execution_count": 13,
   "metadata": {},
   "outputs": [
    {
     "name": "stdout",
     "output_type": "stream",
     "text": [
      "inf\n",
      "nan\n",
      "True\n",
      "True\n"
     ]
    }
   ],
   "source": [
    "# Task 2.3\n",
    "import math\n",
    "\n",
    "inf_var = float('inf')\n",
    "nan_var = float('nan')\n",
    "print(inf_var)\n",
    "print(nan_var)\n",
    "\n",
    "print(math.isinf(inf_var))\n",
    "print(math.isnan(nan_var))"
   ]
  },
  {
   "cell_type": "markdown",
   "metadata": {},
   "source": [
    "## Additional Challenges\n",
    "\n",
    "For a more comprehensive understanding, try the following:\n"
   ]
  },
  {
   "cell_type": "markdown",
   "metadata": {},
   "source": [
    "- **Challenge 1 (Strings):** Write a program that reverses the user's input sentence and prints it.\n"
   ]
  },
  {
   "cell_type": "code",
   "execution_count": 14,
   "metadata": {},
   "outputs": [
    {
     "name": "stdout",
     "output_type": "stream",
     "text": [
      "gfedcba\n"
     ]
    }
   ],
   "source": [
    "# Challenge 1\n",
    "user_input = input(\"enter any thing: >\")\n",
    "print(user_input[::-1])"
   ]
  },
  {
   "cell_type": "markdown",
   "metadata": {},
   "source": [
    "- **Challenge 2 (Numbers):** Create a script that calculates and prints the factorial of a number provided by the user.\n"
   ]
  },
  {
   "cell_type": "code",
   "execution_count": 16,
   "metadata": {},
   "outputs": [
    {
     "name": "stdout",
     "output_type": "stream",
     "text": [
      "6\n"
     ]
    }
   ],
   "source": [
    "# Challenge 2\n",
    "number = int(input(\"Enter number: >\"))\n",
    "print(math.factorial(number))"
   ]
  },
  {
   "cell_type": "code",
   "execution_count": null,
   "metadata": {},
   "outputs": [],
   "source": []
  }
 ],
 "metadata": {
  "kernelspec": {
   "display_name": "Python (myenv)",
   "language": "python",
   "name": "myenv"
  },
  "language_info": {
   "codemirror_mode": {
    "name": "ipython",
    "version": 3
   },
   "file_extension": ".py",
   "mimetype": "text/x-python",
   "name": "python",
   "nbconvert_exporter": "python",
   "pygments_lexer": "ipython3",
   "version": "3.12.5"
  }
 },
 "nbformat": 4,
 "nbformat_minor": 2
}
