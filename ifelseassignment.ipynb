{
 "cells": [
  {
   "cell_type": "markdown",
   "metadata": {},
   "source": [
    "Here’s a new assignment on **Conditional Statements**, based on the provided lecture:\n",
    "\n",
    "---\n",
    "\n",
    "# Mastering Python Conditional Statements Assignment\n",
    "\n",
    "## Exercise 1: Basic Decision Making\n",
    "\n",
    "Understanding the core of conditional statements is crucial for decision-making in Python.\n",
    "\n",
    "- **Task 1.1:** Write a program to check if a number is positive, negative, or zero.\n",
    "  - **Input:** Any integer.\n",
    "  - **Output:** A string stating whether the number is \"positive\", \"negative\", or \"zero\".\n",
    "  \n",
    "```python\n",
    "# Task 1.1\n",
    "\n",
    "```\n",
    "\n",
    "## Exercise 2: Logical Operators\n",
    "\n",
    "Logical operators like `and`, `or`, and `not` help in combining conditions for complex decision-making.\n",
    "\n",
    "- **Task 2.1:** Create a program that determines if a year is a leap year using logical operators.\n",
    "  - **Input:** A year.\n",
    "  - **Output:** `True` if the year is a leap year, `False` otherwise.\n",
    "  \n",
    "```python\n",
    "# Task 2.1\n",
    "\n",
    "```\n",
    "\n",
    "## Exercise 3: Nested Conditional Statements\n",
    "\n",
    "Nesting allows deeper decision-making processes by layering conditions within conditions.\n",
    "\n",
    "- **Task 3.1:** Write a program that categorizes a person’s life stage as follows: \n",
    "  - **Child** (under 18)\n",
    "  - **Adult** (18-64)\n",
    "  - **Senior** (65 and older).\n",
    "  - **Input:** Age as an integer.\n",
    "  - **Output:** A string representing the life stage.\n",
    "  \n",
    "```python\n",
    "# Task 3.1\n",
    "\n",
    "```\n",
    "\n",
    "## Exercise 4: Complex Decision Making\n",
    "\n",
    "Use conditional statements to create more complex decision-making systems.\n",
    "\n",
    "- **Task 4.1:** Write a program that asks for the temperature in Fahrenheit and Celsius, and the unit to which you want to convert. It should then convert the temperature.\n",
    "  - **Input:** Temperature and the target unit (`\"Celsius\"` or `\"Fahrenheit\"`).\n",
    "  - **Output:** The converted temperature.\n",
    "  \n",
    "```python\n",
    "# Task 4.1\n",
    "\n",
    "```\n",
    "\n",
    "## Exercise 5: Grading System\n",
    "\n",
    "Implement a decision-making structure for a grading system.\n",
    "\n",
    "- **Task 5.1:** Write a program to convert a percentage score to a letter grade.\n",
    "  - **A:** 90–100\n",
    "  - **B:** 80–89\n",
    "  - **C:** 70–79\n",
    "  - **D:** 60–69\n",
    "  - **F:** Below 60\n",
    "  - **Input:** Score as a percentage.\n",
    "  - **Output:** The corresponding grade.\n",
    "  \n",
    "```python\n",
    "# Task 5.1\n",
    "\n",
    "```\n"
   ]
  },
  {
   "cell_type": "code",
   "execution_count": 6,
   "metadata": {},
   "outputs": [
    {
     "name": "stdout",
     "output_type": "stream",
     "text": [
      "123.0  Fahrenheit =  50.56  Celsius\n"
     ]
    }
   ],
   "source": [
    "temp = float(input(\"Enter temperature >\"))\n",
    "target_unit = input(\"Which unit you want to convert to (1, 2) >\\n1)Celsius\\n2)Fahrenheit\")\n",
    "if target_unit == \"1\":\n",
    "    print(temp,\" Fahrenheit = \", round((temp - 32) * 5 / 9,2), \" Celsius\")\n",
    "elif target_unit == \"2\":\n",
    "    print(temp,\" Celsius = \", round((temp * 9/5) + 32,2), \" Fahrenheit\")\n",
    "else:\n",
    "    print(\"not valid input\")"
   ]
  },
  {
   "cell_type": "code",
   "execution_count": 15,
   "metadata": {},
   "outputs": [
    {
     "name": "stdout",
     "output_type": "stream",
     "text": [
      "75  -> C\n"
     ]
    }
   ],
   "source": [
    "# take percentage score from user and print it.\n",
    "per_score = input(\"Enter your score in percentage example '92.23%' >\")\n",
    "print(per_score,\" -> \", end=\"\")\n",
    "\n",
    "# convert string to float\n",
    "if per_score[-1] == \"%\":\n",
    "    per_score = float(per_score[:-1])\n",
    "else:\n",
    "    per_score = float(per_score)\n",
    "\n",
    "# do the logic for conversion\n",
    "if 90 <= per_score:\n",
    "    print(\"A\")\n",
    "elif 80 <= per_score < 90:\n",
    "    print(\"B\")\n",
    "elif 70 <= per_score < 80:\n",
    "    print(\"C\")\n",
    "elif 60 <= per_score < 70:\n",
    "    print(\"D\")\n",
    "else:\n",
    "    print(\"E\")"
   ]
  },
  {
   "cell_type": "code",
   "execution_count": null,
   "metadata": {},
   "outputs": [],
   "source": []
  },
  {
   "cell_type": "code",
   "execution_count": null,
   "metadata": {},
   "outputs": [],
   "source": []
  }
 ],
 "metadata": {
  "kernelspec": {
   "display_name": "Python (myenv)",
   "language": "python",
   "name": "myenv"
  },
  "language_info": {
   "codemirror_mode": {
    "name": "ipython",
    "version": 3
   },
   "file_extension": ".py",
   "mimetype": "text/x-python",
   "name": "python",
   "nbconvert_exporter": "python",
   "pygments_lexer": "ipython3",
   "version": "3.12.5"
  }
 },
 "nbformat": 4,
 "nbformat_minor": 2
}
